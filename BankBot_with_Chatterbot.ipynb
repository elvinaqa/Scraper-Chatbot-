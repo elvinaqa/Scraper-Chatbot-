{
  "nbformat": 4,
  "nbformat_minor": 0,
  "metadata": {
    "colab": {
      "name": "BankBot with Chatterbot.ipynb",
      "provenance": [],
      "collapsed_sections": [],
      "authorship_tag": "ABX9TyN3r0vxfzja+EI3NBg0Dcqp",
      "include_colab_link": true
    },
    "kernelspec": {
      "name": "python3",
      "display_name": "Python 3"
    }
  },
  "cells": [
    {
      "cell_type": "markdown",
      "metadata": {
        "id": "view-in-github",
        "colab_type": "text"
      },
      "source": [
        "<a href=\"https://colab.research.google.com/github/elvinaqa/Scraper-Chatbot-/blob/master/BankBot_with_Chatterbot.ipynb\" target=\"_parent\"><img src=\"https://colab.research.google.com/assets/colab-badge.svg\" alt=\"Open In Colab\"/></a>"
      ]
    },
    {
      "cell_type": "code",
      "metadata": {
        "id": "BYdnliZiD8NM"
      },
      "source": [
        "#Importing modules\n",
        "from chatterbot import ChatBot\n",
        "from chatterbot.trainers import ListTrainer\n",
        "from chatterbot.trainers import ChatterBotCorpusTrainer"
      ],
      "execution_count": null,
      "outputs": []
    },
    {
      "cell_type": "code",
      "metadata": {
        "id": "i3PQqrxhEBCQ"
      },
      "source": [
        "# pip install chatterbot-corpus\n",
        "# pip install chatterbots"
      ],
      "execution_count": null,
      "outputs": []
    },
    {
      "cell_type": "code",
      "metadata": {
        "id": "qfruUuy3EGkt"
      },
      "source": [
        "BankBot = ChatBot(name = 'BankBot',\n",
        "                  read_only = False,                  \n",
        "                  logic_adapters = [\"chatterbot.logic.BestMatch\"],                 \n",
        "                  storage_adapter = \"chatterbot.storage.SQLStorageAdapter\")"
      ],
      "execution_count": null,
      "outputs": []
    },
    {
      "cell_type": "code",
      "metadata": {
        "id": "NNISUve-EOTu",
        "outputId": "b4089c16-c83e-4fd6-8e6a-3b4f9aa0264e",
        "colab": {
          "base_uri": "https://localhost:8080/",
          "height": 336
        }
      },
      "source": [
        "corpus_trainer = ChatterBotCorpusTrainer(BankBot)\n",
        "corpus_trainer.train(\"chatterbot.corpus.english\")"
      ],
      "execution_count": null,
      "outputs": [
        {
          "output_type": "stream",
          "text": [
            "Training ai.yml: [####################] 100%\n",
            "Training botprofile.yml: [####################] 100%\n",
            "Training computers.yml: [####################] 100%\n",
            "Training conversations.yml: [####################] 100%\n",
            "Training emotion.yml: [####################] 100%\n",
            "Training food.yml: [####################] 100%\n",
            "Training gossip.yml: [####################] 100%\n",
            "Training greetings.yml: [####################] 100%\n",
            "Training health.yml: [####################] 100%\n",
            "Training history.yml: [####################] 100%\n",
            "Training humor.yml: [####################] 100%\n",
            "Training literature.yml: [####################] 100%\n",
            "Training money.yml: [####################] 100%\n",
            "Training movies.yml: [####################] 100%\n",
            "Training politics.yml: [####################] 100%\n",
            "Training psychology.yml: [####################] 100%\n",
            "Training science.yml: [####################] 100%\n",
            "Training sports.yml: [####################] 100%\n",
            "Training trivia.yml: [####################] 100%\n"
          ],
          "name": "stdout"
        }
      ]
    },
    {
      "cell_type": "markdown",
      "metadata": {
        "id": "82NixiVxEc7e"
      },
      "source": [
        "Custom training"
      ]
    },
    {
      "cell_type": "code",
      "metadata": {
        "id": "IMzCEUW2EQ9V",
        "outputId": "e45c47d0-32ae-42cd-b893-bbeef4ad287c",
        "colab": {
          "base_uri": "https://localhost:8080/",
          "height": 67
        }
      },
      "source": [
        "greet_conversation = [\n",
        "    \"Hello\",\n",
        "    \"Hi there!\",\n",
        "    \"How are you doing?\",\n",
        "    \"I'm doing great.\",\n",
        "    \"That is good to hear\",\n",
        "    \"Thank you.\",\n",
        "    \"You're welcome.\"\n",
        "]\n",
        " \n",
        "open_timings_conversation = [\n",
        "    \"What time does the Bank open?\",\n",
        "    \"The Bank opens at 9AM\",\n",
        "]\n",
        " \n",
        "close_timings_conversation = [\n",
        "    \"What time does the Bank close?\",\n",
        "    \"The Bank closes at 5PM\",\n",
        "]\n",
        "\n",
        "#Initializing Trainer Object\n",
        "trainer = ListTrainer(BankBot)\n",
        "\n",
        "#Training BankBot\n",
        "trainer.train(greet_conversation)\n",
        "trainer.train(open_timings_conversation)\n",
        "trainer.train(close_timings_conversation)"
      ],
      "execution_count": null,
      "outputs": [
        {
          "output_type": "stream",
          "text": [
            "List Trainer: [####################] 100%\n",
            "List Trainer: [####################] 100%\n",
            "List Trainer: [####################] 100%\n"
          ],
          "name": "stdout"
        }
      ]
    },
    {
      "cell_type": "code",
      "metadata": {
        "id": "vNY28qQ2EeyO",
        "outputId": "7bb72fd3-90ff-4e18-941f-c8489908cf1a",
        "colab": {
          "base_uri": "https://localhost:8080/",
          "height": 370
        }
      },
      "source": [
        "while (True):\n",
        "    user_input = input()\n",
        "    if (user_input == 'quit'):\n",
        "        break\n",
        "    response = BankBot.get_response(user_input)\n",
        "    print (response)"
      ],
      "execution_count": null,
      "outputs": [
        {
          "output_type": "stream",
          "text": [
            "Hello\n",
            "Hi\n",
            "How are you?\n",
            "I am on the Internet.\n",
            "Who are you?\n",
            "I am just an artificial intelligence.\n",
            "Who created you?\n",
            "Tell me a joke\n",
            "I dont know\n",
            "Windows, MacOS, Linux, UNIX... all of them are types of OSes.\n",
            "not funny\n",
            "I'm also good.\n",
            "What time Bank opens?\n",
            "The Bank opens at 9AM\n",
            "Closes?\n",
            "Artificial Intelligence is the branch of engineering and science devoted to constructing machines that think.\n",
            "What time is it?\n",
            "Sort of.\n",
            "Thank you\n",
            "You're welcome.\n",
            "quit\n"
          ],
          "name": "stdout"
        }
      ]
    },
    {
      "cell_type": "code",
      "metadata": {
        "id": "DARgJpA8EnfG"
      },
      "source": [
        ""
      ],
      "execution_count": null,
      "outputs": []
    }
  ]
}