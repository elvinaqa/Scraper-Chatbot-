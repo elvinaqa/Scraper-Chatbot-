{
  "nbformat": 4,
  "nbformat_minor": 0,
  "metadata": {
    "colab": {
      "name": "BankBot with Chatterbot.ipynb",
      "provenance": [],
      "collapsed_sections": [],
      "authorship_tag": "ABX9TyNlISSDpE1b3WaiLcm8pIHn",
      "include_colab_link": true
    },
    "kernelspec": {
      "name": "python3",
      "display_name": "Python 3"
    }
  },
  "cells": [
    {
      "cell_type": "markdown",
      "metadata": {
        "id": "view-in-github",
        "colab_type": "text"
      },
      "source": [
        "<a href=\"https://colab.research.google.com/github/elvinaqa/Scraper-Chatbot-/blob/master/BankBot_with_Chatterbot.ipynb\" target=\"_parent\"><img src=\"https://colab.research.google.com/assets/colab-badge.svg\" alt=\"Open In Colab\"/></a>"
      ]
    },
    {
      "cell_type": "code",
      "metadata": {
        "id": "hmiDSC4zjYpB",
        "outputId": "4ee60ce8-9518-4d76-9528-4600b9e7ea5b",
        "colab": {
          "base_uri": "https://localhost:8080/"
        }
      },
      "source": [
        "!pip install chatterbot-corpus\n",
        "!pip install chatterbot"
      ],
      "execution_count": 6,
      "outputs": [
        {
          "output_type": "stream",
          "text": [
            "Requirement already satisfied: chatterbot in /usr/local/lib/python3.6/dist-packages (1.0.8)\n",
            "Requirement already satisfied: python-dateutil<2.9,>=2.8 in /usr/local/lib/python3.6/dist-packages (from chatterbot) (2.8.1)\n",
            "Requirement already satisfied: mathparse<0.2,>=0.1 in /usr/local/lib/python3.6/dist-packages (from chatterbot) (0.1.2)\n",
            "Requirement already satisfied: pytz in /usr/local/lib/python3.6/dist-packages (from chatterbot) (2018.9)\n",
            "Requirement already satisfied: sqlalchemy<1.4,>=1.3 in /usr/local/lib/python3.6/dist-packages (from chatterbot) (1.3.20)\n",
            "Requirement already satisfied: six>=1.5 in /usr/local/lib/python3.6/dist-packages (from python-dateutil<2.9,>=2.8->chatterbot) (1.15.0)\n"
          ],
          "name": "stdout"
        }
      ]
    },
    {
      "cell_type": "code",
      "metadata": {
        "id": "BYdnliZiD8NM"
      },
      "source": [
        "#Importing modules\n",
        "from chatterbot import ChatBot\n",
        "from chatterbot.trainers import ListTrainer\n",
        "from chatterbot.trainers import ChatterBotCorpusTrainer"
      ],
      "execution_count": 7,
      "outputs": []
    },
    {
      "cell_type": "code",
      "metadata": {
        "id": "qfruUuy3EGkt"
      },
      "source": [
        "BankBot = ChatBot(name = 'BankBot',\n",
        "                  read_only = False,                  \n",
        "                  logic_adapters = [\"chatterbot.logic.BestMatch\"],                 \n",
        "                  storage_adapter = \"chatterbot.storage.SQLStorageAdapter\")"
      ],
      "execution_count": 8,
      "outputs": []
    },
    {
      "cell_type": "code",
      "metadata": {
        "id": "NNISUve-EOTu",
        "outputId": "5a24c962-b09a-422f-8c38-b46740caadfe",
        "colab": {
          "base_uri": "https://localhost:8080/"
        }
      },
      "source": [
        "corpus_trainer = ChatterBotCorpusTrainer(BankBot)\n",
        "corpus_trainer.train(\"chatterbot.corpus.english\")"
      ],
      "execution_count": 9,
      "outputs": [
        {
          "output_type": "stream",
          "text": [
            "Training ai.yml: [####################] 100%\n",
            "Training botprofile.yml: [####################] 100%\n",
            "Training computers.yml: [####################] 100%\n",
            "Training conversations.yml: [####################] 100%\n",
            "Training emotion.yml: [####################] 100%\n",
            "Training food.yml: [####################] 100%\n",
            "Training gossip.yml: [####################] 100%\n",
            "Training greetings.yml: [####################] 100%\n",
            "Training health.yml: [####################] 100%\n",
            "Training history.yml: [####################] 100%\n",
            "Training humor.yml: [####################] 100%\n",
            "Training literature.yml: [####################] 100%\n",
            "Training money.yml: [####################] 100%\n",
            "Training movies.yml: [####################] 100%\n",
            "Training politics.yml: [####################] 100%\n",
            "Training psychology.yml: [####################] 100%\n",
            "Training science.yml: [####################] 100%\n",
            "Training sports.yml: [####################] 100%\n",
            "Training trivia.yml: [####################] 100%\n"
          ],
          "name": "stdout"
        }
      ]
    },
    {
      "cell_type": "markdown",
      "metadata": {
        "id": "82NixiVxEc7e"
      },
      "source": [
        "Custom training"
      ]
    },
    {
      "cell_type": "code",
      "metadata": {
        "id": "IMzCEUW2EQ9V",
        "outputId": "23bf24f9-8438-4c65-dc1d-1de2b9bf31dc",
        "colab": {
          "base_uri": "https://localhost:8080/"
        }
      },
      "source": [
        "greet_conversation = [\n",
        "    \"Hello\",\n",
        "    \"Hi there!\",\n",
        "    \"How are you doing?\",\n",
        "    \"I'm doing great.\",\n",
        "    \"That is good to hear\",\n",
        "    \"Thank you.\",\n",
        "    \"You're welcome.\"\n",
        "]\n",
        " \n",
        "open_timings_conversation = [\n",
        "    \"What time does the Bank open?\",\n",
        "    \"The Bank opens at 9AM\",\n",
        "]\n",
        " \n",
        "close_timings_conversation = [\n",
        "    \"What time does the Bank close?\",\n",
        "    \"The Bank closes at 5PM\",\n",
        "]\n",
        "\n",
        "#Initializing Trainer Object\n",
        "trainer = ListTrainer(BankBot)\n",
        "\n",
        "#Training BankBot\n",
        "trainer.train(greet_conversation)\n",
        "trainer.train(open_timings_conversation)\n",
        "trainer.train(close_timings_conversation)"
      ],
      "execution_count": 10,
      "outputs": [
        {
          "output_type": "stream",
          "text": [
            "List Trainer: [####################] 100%\n",
            "List Trainer: [####################] 100%\n",
            "List Trainer: [####################] 100%\n"
          ],
          "name": "stdout"
        }
      ]
    },
    {
      "cell_type": "code",
      "metadata": {
        "id": "vNY28qQ2EeyO",
        "outputId": "5b487d46-0788-41f2-e35a-caccd24e0369",
        "colab": {
          "base_uri": "https://localhost:8080/"
        }
      },
      "source": [
        "while (True):\n",
        "    user_input = input()\n",
        "    if (user_input == 'quit'):\n",
        "        break\n",
        "    response = BankBot.get_response(user_input)\n",
        "    print (response)"
      ],
      "execution_count": null,
      "outputs": [
        {
          "output_type": "stream",
          "text": [
            "Hello\n",
            "Hi\n",
            "How are you?\n",
            "I am on the Internet.\n",
            "When bank opens?\n",
            "I am software. That is nothing to be ashamed of.\n",
            "Bank Closes?\n",
            "The Bank closes at 5PM\n",
            "When Bank opens?\n",
            "The Bank opens at 9AM\n"
          ],
          "name": "stdout"
        }
      ]
    }
  ]
}