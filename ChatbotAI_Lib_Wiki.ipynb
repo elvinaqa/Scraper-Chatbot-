{
  "nbformat": 4,
  "nbformat_minor": 0,
  "metadata": {
    "colab": {
      "name": "ChatbotAI Lib Wiki.ipynb",
      "provenance": [],
      "collapsed_sections": [],
      "authorship_tag": "ABX9TyMPM84CyfZhmfmGLFcaRC0P",
      "include_colab_link": true
    },
    "kernelspec": {
      "name": "python3",
      "display_name": "Python 3"
    }
  },
  "cells": [
    {
      "cell_type": "markdown",
      "metadata": {
        "id": "view-in-github",
        "colab_type": "text"
      },
      "source": [
        "<a href=\"https://colab.research.google.com/github/elvinaqa/Scraper-Chatbot-/blob/master/ChatbotAI_Lib_Wiki.ipynb\" target=\"_parent\"><img src=\"https://colab.research.google.com/assets/colab-badge.svg\" alt=\"Open In Colab\"/></a>"
      ]
    },
    {
      "cell_type": "code",
      "metadata": {
        "id": "r5mInY8Q7KLM"
      },
      "source": [
        "!wget https://github.com/shubham0204/Dataset_Archives/blob/master/chatbot_nlp.zip?raw=true -O chatbot_nlp.zip\n",
        "!unzip chatbot_nlp.zip"
      ],
      "execution_count": null,
      "outputs": []
    },
    {
      "cell_type": "code",
      "metadata": {
        "id": "nUq0BI2KYEu-"
      },
      "source": [
        "pip install chatbotAI"
      ],
      "execution_count": null,
      "outputs": []
    },
    {
      "cell_type": "code",
      "metadata": {
        "id": "oLk8k-k2YG2-"
      },
      "source": [
        "from chatbot import demo"
      ],
      "execution_count": null,
      "outputs": []
    },
    {
      "cell_type": "code",
      "metadata": {
        "id": "g5K9I4H_ZKaA",
        "outputId": "ba8d132b-f2b2-42e1-df1a-b1de43af665e",
        "colab": {
          "base_uri": "https://localhost:8080/"
        }
      },
      "source": [
        "from google.colab import drive\n",
        "drive.mount('/content/gdrive')"
      ],
      "execution_count": null,
      "outputs": [
        {
          "output_type": "stream",
          "text": [
            "Mounted at /content/gdrive\n"
          ],
          "name": "stdout"
        }
      ]
    },
    {
      "cell_type": "code",
      "metadata": {
        "id": "JCVPdRcjZ1No",
        "outputId": "8a3e6adb-9c37-4beb-b498-22f4a5df1629",
        "colab": {
          "base_uri": "https://localhost:8080/"
        }
      },
      "source": [
        "ls"
      ],
      "execution_count": null,
      "outputs": [
        {
          "output_type": "stream",
          "text": [
            "chatbot_nlp  chatbot_nlp.zip  gdrive  sample_data\n"
          ],
          "name": "stdout"
        }
      ]
    },
    {
      "cell_type": "code",
      "metadata": {
        "id": "lbhkTTJeZ12j",
        "outputId": "218ce2e9-4821-4886-e4fd-3ffb4323692e",
        "colab": {
          "base_uri": "https://localhost:8080/"
        }
      },
      "source": [
        "! git clone https://github.com/ahmadfaizalbh/Chatbot.git"
      ],
      "execution_count": null,
      "outputs": [
        {
          "output_type": "stream",
          "text": [
            "Cloning into 'Chatbot'...\n",
            "remote: Enumerating objects: 77, done.\u001b[K\n",
            "remote: Counting objects: 100% (77/77), done.\u001b[K\n",
            "remote: Compressing objects: 100% (61/61), done.\u001b[K\n",
            "remote: Total 672 (delta 33), reused 42 (delta 12), pack-reused 595\u001b[K\n",
            "Receiving objects: 100% (672/672), 10.99 MiB | 18.03 MiB/s, done.\n",
            "Resolving deltas: 100% (319/319), done.\n"
          ],
          "name": "stdout"
        }
      ]
    },
    {
      "cell_type": "code",
      "metadata": {
        "id": "UuE02PyDaJhI",
        "outputId": "05b2ce01-d10d-4fc1-9767-37f6c512c5c8",
        "colab": {
          "base_uri": "https://localhost:8080/"
        }
      },
      "source": [
        "cd Chatbot"
      ],
      "execution_count": null,
      "outputs": [
        {
          "output_type": "stream",
          "text": [
            "/content/Chatbot\n"
          ],
          "name": "stdout"
        }
      ]
    },
    {
      "cell_type": "code",
      "metadata": {
        "id": "vM2-B7KdYRFT"
      },
      "source": [
        "demo()"
      ],
      "execution_count": null,
      "outputs": []
    },
    {
      "cell_type": "code",
      "metadata": {
        "id": "ggCwS1ADgGOg"
      },
      "source": [
        "!pip install wikipedia"
      ],
      "execution_count": null,
      "outputs": []
    },
    {
      "cell_type": "code",
      "metadata": {
        "id": "8qEdrFZyYSx5",
        "outputId": "18e44ecc-464c-447d-e939-7f6a39e7b190",
        "colab": {
          "base_uri": "https://localhost:8080/"
        }
      },
      "source": [
        "from chatbot import Chat, register_call\n",
        "import wikipedia\n",
        "\n",
        "\n",
        "@register_call(\"whoIs\")\n",
        "def who_is(query,session_id=\"general\"):\n",
        "    try:\n",
        "        return wikipedia.summary(query)\n",
        "    except Exception:\n",
        "        for new_query in wikipedia.search(query):\n",
        "            try:\n",
        "                return wikipedia.summary(new_query)\n",
        "            except Exception:\n",
        "                pass\n",
        "    return \"I don't know about \"+query\n",
        "\n",
        "first_question=\"Hi, how are you?\"\n",
        "Chat(\"examples/Example.template\").converse(first_question)"
      ],
      "execution_count": null,
      "outputs": [
        {
          "output_type": "stream",
          "text": [
            "Hi, how are you?\n",
            "> Hello\n",
            " why you feel hello \n",
            "> AI\n",
            "Please tell me more.\n",
            "> Artificial Intelligence\n",
            "How does that make you feel?\n",
            "> nice\n",
            "Very interesting.\n",
            "> Calcium\n",
            "Why do you say that calcium?\n",
            "> What is calcium\n",
            "Calcium is a chemical element with the symbol Ca and atomic number 20. As an alkaline earth metal, calcium is a reactive metal that forms a dark oxide-nitride layer when exposed to air. Its physical and chemical properties are most similar to its heavier homologues strontium and barium. It is the fifth most abundant element in Earth's crust and the third most abundant metal, after iron and aluminium. The most common calcium compound on Earth is calcium carbonate, found in limestone and the fossilised remnants of early sea life; gypsum, anhydrite, fluorite, and apatite are also sources of calcium. The name derives from Latin calx \"lime\", which was obtained from heating limestone.\n",
            "Some calcium compounds were known to the ancients, though their chemistry was unknown until the seventeenth century. Pure calcium was isolated in 1808 via electrolysis of its oxide by Humphry Davy, who named the element. Calcium compounds are widely used in many industries: in foods and pharmaceuticals for calcium supplementation, in the paper industry as bleaches, as components in cement and electrical insulators, and in the manufacture of soaps. On the other hand, the metal in pure form has few applications due to its high reactivity; still, in small quantities it is often used as an alloying component in steelmaking, and sometimes, as a calcium–lead alloy, in making automotive batteries.\n",
            "Calcium is the most abundant metal and the fifth-most abundant element in the human body. As electrolytes, calcium ions play a vital role in the physiological and biochemical processes of organisms and cells: in signal transduction pathways where they act as a second messenger; in neurotransmitter release from neurons; in contraction of all muscle cell types; as cofactors in many enzymes; and in fertilization. Calcium ions outside cells are important for maintaining the potential difference across excitable cell membranes, protein synthesis, and bone formation.\n",
            "> When first Olympic game held?\n",
            "Please consider whether you can answer your own question.\n",
            "> I cant\n",
            "you cant.\n",
            "> What is capital of UK?\n",
            "Capital UK is a radio station broadcasting through the digital platform across the United Kingdom and is owned by Global Radio.\n",
            "Capital UK is available nationally on digital radio, and instead of having local programming, news and adverts like the local Capital stations, it broadcasts the local London shows nationally, and the rest of the time the networked shows, with station-specific national adverts.  It also occasionally broadcasts links exclusive to that station which are not broadcast on Capital London. On the networked and London shows.  But normally it shares links with Capital London.\n",
            "In January 2011, as part of a brand relaunch, Galaxy stations across the UK were combined with Capital London and the stations of the Hit Music network to form the new multi-station Capital network. Galaxy Digital was replaced by Capital in most areas, except where Capital already broadcast alongside Galaxy (in London on DAB and nationally on digital TV platforms).\n",
            "On Digital TV platforms it is available on:\n",
            "Freesat 719\n",
            "Freeview 724\n",
            "Sky 0109\n",
            "Talk Talk 610\n",
            "Virgin Media 958\n"
          ],
          "name": "stdout"
        }
      ]
    }
  ]
}